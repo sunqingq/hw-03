{
 "cells": [
  {
   "cell_type": "markdown",
   "metadata": {},
   "source": [
    "# CMSE 202 Homework 4 (Individual)\n",
    "\n",
    "## Using SVM and PCA to predict the outcome of chess games\n",
    "\n",
    "### Goals for this homework assignment\n",
    "\n",
    "By the end of this assignment, you should be able to:\n",
    "\n",
    "* Use `git` to track your work and turn in your assignment\n",
    "* Read and impute data to prepare it for modeling\n",
    "* Build, fit, and evaluate an SVC model of data\n",
    "* Use PCA to reduce the number of important features\n",
    "* Build, fit, and evaluate an SVC model of pca transformed data\n",
    "* Systematically investigate the effects of the number of components on an SVC model of data\n",
    "\n",
    "\n",
    "### Assignment instructions:\n",
    "\n",
    "Work through the following assignment, making sure to follow all of the directions and answer all of the questions.\n",
    "\n",
    "There are 25 points possible on this assignment. Point values for each part are included in the section headers.\n",
    "\n",
    "This assignment is due at 11:59 pm on Friday, November 13th. It should be pushed to your repo (See Part 1). "
   ]
  },
  {
   "cell_type": "code",
   "execution_count": 205,
   "metadata": {},
   "outputs": [],
   "source": [
    "## Our imports\n",
    "import numpy as np\n",
    "import pandas as pd\n",
    "import matplotlib.pylab as plt\n",
    "from sklearn.model_selection import train_test_split\n",
    "from sklearn.model_selection import GridSearchCV\n",
    "from sklearn.metrics import classification_report\n",
    "from sklearn.metrics import confusion_matrix, accuracy_score\n",
    "from sklearn.svm import SVC\n",
    "from sklearn.decomposition import PCA"
   ]
  },
  {
   "cell_type": "markdown",
   "metadata": {},
   "source": [
    "---\n",
    "## 1. Adding notebook to your turn-in repository\n",
    "\n",
    "Like you did for Homework 3, you're going to add it to the CMSE202 repository you created in class so that you can track your progress on the assignment and preserve the final version that you turn in. In order to do this you need to:\n",
    "\n",
    "* Navigate to your /CMSE202/repos repository and create a new directory called hw-04.\n",
    "* Move this notebook into that new directory in your repository, then add it and commit it to your repository.\n",
    "   * Finally, to test that everything is working, \"git push\" the file so that it ends up in your GitHub repository.\n",
    "\n",
    "Important: Make sure you've added your TA as a collaborators to your respository with \"Read\" access so that we can see your assignment. (*If you did this for Homework 3, you do not need to do it again*)\n",
    "\n",
    "* Section 001: tuethan\n",
    "* Section 002: Luis-Polanco\n",
    "* Section 003: DavidRimel\n",
    "\n",
    "Also important: Make sure that the version of this notebook that you are working on is the same one that you just added to your repository! If you are working on a different copy of the notebook, none of your changes will be tracked.\n",
    "\n",
    "If everything went as intended, the file should now show up on your GitHub account CMSE202 repository under the hw-04 directory that you just created. Periodically, you'll be asked to commit your changes to the repository and push them to the remote GitHub location. Of course, you can always commit your changes more often than that, if you wish. It can be good to get into a habit of committing your changes any time you make a significant modification, or when you stop working on the project for a bit."
   ]
  },
  {
   "cell_type": "markdown",
   "metadata": {},
   "source": [
    "---\n",
    "## 2. Chess Game Data\n",
    "\n",
    "The data you will work are configurations of a chess end game. It assumes that a pawn is one move away from [\"queening\"](https://en.wikipedia.org/wiki/Promotion_(chess)) and \n",
    "the other pieces can be moved to perform different offensive or defensive actions. For each of the 36 potential features, there are several potential values for each (entries in a given column). **The details of the data matter a bit less for our purposes, but we are attempting to predict the won/loss by a given side.** If you really want to know about the data, you can look into a [classic text on Artificial Intelligence by Shapiro](https://www.amazon.com/Encyclopedia-Artificial-Intelligence-Stuart-Shapiro/dp/0471807486).\n",
    "\n",
    "You will first do this with a full model, then investigate how well the model works after a PCA has been done on the data.\n",
    "\n",
    "### 2.1 Read in the data\n",
    "\n",
    "First you need to read in the data from `kr-vs-kp.data`. You can look at `kr-vs-kp.names` to see how the data is structured. But we give you the code for the column naming as there are so many features and they are unlabeled in the `.data` file.\n",
    "\n",
    "```cols = [\"bkblk\",\"bknwy\",\"bkon8\",\"bkona\",\"bkspr\",\"bkxbq\",\"bkxcr\",\"bkxwp\",\"blxwp\",\"bxqsq\",\"cntxt\",\"dsopp\",\"dwipd\",\n",
    " \"hdchk\",\"katri\",\"mulch\",\"qxmsq\",\"r2ar8\",\"reskd\",\"reskr\",\"rimmx\",\"rkxwp\",\"rxmsq\",\"simpl\",\"skach\",\"skewr\",\n",
    " \"skrxp\",\"spcop\",\"stlmt\",\"thrsk\",\"wkcti\",\"wkna8\",\"wknck\",\"wkovl\",\"wkpos\",\"wtoeg\",\"won\"]```\n",
    " \n",
    "<font size=8 color=\"#009600\">&#9998;</font> Do this - Read in the data from `kr-vs-kp.data` using the columns listed above. Print the `.head()` of the dataframe."
   ]
  },
  {
   "cell_type": "code",
   "execution_count": 206,
   "metadata": {},
   "outputs": [
    {
     "data": {
      "text/html": [
       "<div>\n",
       "<style scoped>\n",
       "    .dataframe tbody tr th:only-of-type {\n",
       "        vertical-align: middle;\n",
       "    }\n",
       "\n",
       "    .dataframe tbody tr th {\n",
       "        vertical-align: top;\n",
       "    }\n",
       "\n",
       "    .dataframe thead th {\n",
       "        text-align: right;\n",
       "    }\n",
       "</style>\n",
       "<table border=\"1\" class=\"dataframe\">\n",
       "  <thead>\n",
       "    <tr style=\"text-align: right;\">\n",
       "      <th></th>\n",
       "      <th>bkblk</th>\n",
       "      <th>bknwy</th>\n",
       "      <th>bkon8</th>\n",
       "      <th>bkona</th>\n",
       "      <th>bkspr</th>\n",
       "      <th>bkxbq</th>\n",
       "      <th>bkxcr</th>\n",
       "      <th>bkxwp</th>\n",
       "      <th>blxwp</th>\n",
       "      <th>bxqsq</th>\n",
       "      <th>...</th>\n",
       "      <th>spcop</th>\n",
       "      <th>stlmt</th>\n",
       "      <th>thrsk</th>\n",
       "      <th>wkcti</th>\n",
       "      <th>wkna8</th>\n",
       "      <th>wknck</th>\n",
       "      <th>wkovl</th>\n",
       "      <th>wkpos</th>\n",
       "      <th>wtoeg</th>\n",
       "      <th>won</th>\n",
       "    </tr>\n",
       "  </thead>\n",
       "  <tbody>\n",
       "    <tr>\n",
       "      <th>0</th>\n",
       "      <td>f</td>\n",
       "      <td>f</td>\n",
       "      <td>f</td>\n",
       "      <td>f</td>\n",
       "      <td>f</td>\n",
       "      <td>f</td>\n",
       "      <td>f</td>\n",
       "      <td>f</td>\n",
       "      <td>f</td>\n",
       "      <td>f</td>\n",
       "      <td>...</td>\n",
       "      <td>f</td>\n",
       "      <td>f</td>\n",
       "      <td>f</td>\n",
       "      <td>f</td>\n",
       "      <td>f</td>\n",
       "      <td>f</td>\n",
       "      <td>t</td>\n",
       "      <td>t</td>\n",
       "      <td>n</td>\n",
       "      <td>won</td>\n",
       "    </tr>\n",
       "    <tr>\n",
       "      <th>1</th>\n",
       "      <td>f</td>\n",
       "      <td>f</td>\n",
       "      <td>f</td>\n",
       "      <td>f</td>\n",
       "      <td>t</td>\n",
       "      <td>f</td>\n",
       "      <td>f</td>\n",
       "      <td>f</td>\n",
       "      <td>f</td>\n",
       "      <td>f</td>\n",
       "      <td>...</td>\n",
       "      <td>f</td>\n",
       "      <td>f</td>\n",
       "      <td>f</td>\n",
       "      <td>f</td>\n",
       "      <td>f</td>\n",
       "      <td>f</td>\n",
       "      <td>t</td>\n",
       "      <td>t</td>\n",
       "      <td>n</td>\n",
       "      <td>won</td>\n",
       "    </tr>\n",
       "    <tr>\n",
       "      <th>2</th>\n",
       "      <td>f</td>\n",
       "      <td>f</td>\n",
       "      <td>f</td>\n",
       "      <td>f</td>\n",
       "      <td>t</td>\n",
       "      <td>f</td>\n",
       "      <td>t</td>\n",
       "      <td>f</td>\n",
       "      <td>f</td>\n",
       "      <td>f</td>\n",
       "      <td>...</td>\n",
       "      <td>f</td>\n",
       "      <td>f</td>\n",
       "      <td>f</td>\n",
       "      <td>f</td>\n",
       "      <td>f</td>\n",
       "      <td>f</td>\n",
       "      <td>t</td>\n",
       "      <td>t</td>\n",
       "      <td>n</td>\n",
       "      <td>won</td>\n",
       "    </tr>\n",
       "    <tr>\n",
       "      <th>3</th>\n",
       "      <td>f</td>\n",
       "      <td>f</td>\n",
       "      <td>f</td>\n",
       "      <td>f</td>\n",
       "      <td>f</td>\n",
       "      <td>f</td>\n",
       "      <td>f</td>\n",
       "      <td>f</td>\n",
       "      <td>t</td>\n",
       "      <td>f</td>\n",
       "      <td>...</td>\n",
       "      <td>f</td>\n",
       "      <td>f</td>\n",
       "      <td>f</td>\n",
       "      <td>f</td>\n",
       "      <td>f</td>\n",
       "      <td>f</td>\n",
       "      <td>t</td>\n",
       "      <td>t</td>\n",
       "      <td>n</td>\n",
       "      <td>won</td>\n",
       "    </tr>\n",
       "    <tr>\n",
       "      <th>4</th>\n",
       "      <td>f</td>\n",
       "      <td>f</td>\n",
       "      <td>f</td>\n",
       "      <td>f</td>\n",
       "      <td>f</td>\n",
       "      <td>f</td>\n",
       "      <td>f</td>\n",
       "      <td>f</td>\n",
       "      <td>f</td>\n",
       "      <td>f</td>\n",
       "      <td>...</td>\n",
       "      <td>f</td>\n",
       "      <td>f</td>\n",
       "      <td>f</td>\n",
       "      <td>f</td>\n",
       "      <td>f</td>\n",
       "      <td>f</td>\n",
       "      <td>t</td>\n",
       "      <td>t</td>\n",
       "      <td>n</td>\n",
       "      <td>won</td>\n",
       "    </tr>\n",
       "  </tbody>\n",
       "</table>\n",
       "<p>5 rows × 37 columns</p>\n",
       "</div>"
      ],
      "text/plain": [
       "  bkblk bknwy bkon8 bkona bkspr bkxbq bkxcr bkxwp blxwp bxqsq  ... spcop  \\\n",
       "0     f     f     f     f     f     f     f     f     f     f  ...     f   \n",
       "1     f     f     f     f     t     f     f     f     f     f  ...     f   \n",
       "2     f     f     f     f     t     f     t     f     f     f  ...     f   \n",
       "3     f     f     f     f     f     f     f     f     t     f  ...     f   \n",
       "4     f     f     f     f     f     f     f     f     f     f  ...     f   \n",
       "\n",
       "  stlmt thrsk wkcti wkna8 wknck wkovl wkpos wtoeg  won  \n",
       "0     f     f     f     f     f     t     t     n  won  \n",
       "1     f     f     f     f     f     t     t     n  won  \n",
       "2     f     f     f     f     f     t     t     n  won  \n",
       "3     f     f     f     f     f     t     t     n  won  \n",
       "4     f     f     f     f     f     t     t     n  won  \n",
       "\n",
       "[5 rows x 37 columns]"
      ]
     },
     "execution_count": 206,
     "metadata": {},
     "output_type": "execute_result"
    }
   ],
   "source": [
    "## your code here\n",
    "cols = [\"bkblk\",\"bknwy\",\"bkon8\",\"bkona\",\"bkspr\",\"bkxbq\",\"bkxcr\",\"bkxwp\",\"blxwp\",\"bxqsq\",\"cntxt\",\"dsopp\",\"dwipd\",\n",
    " \"hdchk\",\"katri\",\"mulch\",\"qxmsq\",\"r2ar8\",\"reskd\",\"reskr\",\"rimmx\",\"rkxwp\",\"rxmsq\",\"simpl\",\"skach\",\"skewr\",\n",
    " \"skrxp\",\"spcop\",\"stlmt\",\"thrsk\",\"wkcti\",\"wkna8\",\"wknck\",\"wkovl\",\"wkpos\",\"wtoeg\",\"won\"]\n",
    "data=pd.read_csv(\"kr-vs-kp.data\",names=cols)\n",
    "data.head()"
   ]
  },
  {
   "cell_type": "markdown",
   "metadata": {},
   "source": [
    "### 2.2 Imputing the data\n",
    "\n",
    "There are no missing data in this data file, but there are some other issues. \n",
    "\n",
    "When you print the head of this data set, you probably noticed that all the features and labels are strings. We need to replace them with numerical values for modeling. For the `won` column replace winning with a 1 and losing with a 0. For the other columns, there are seven strings. Replace them using the following table:\n",
    "\n",
    "| raw data | replaced |\n",
    "| -------- | -------- |\n",
    "| f | 1 |\n",
    "| l | 2 |\n",
    "| n | 3 |\n",
    "| t | 4 |\n",
    "| w | 5 |\n",
    "| b | 6 |\n",
    "| g | 7 |\n",
    "\n",
    "**Note:** this choice really matters and for the models we have learned can really influence the results of our model. We do this because we need to for the model, but we haven't critically thought about the mapping that makes the most sense. There are other models (e.g., [tree-based alogrithms](https://en.wikipedia.org/wiki/Random_forest)) that can handle these categorical data without this mapping.\n",
    "\n",
    "<font size=8 color=\"#009600\">&#9998;</font> Do this - Replace the entries in the columns as indicated above. Print the `.head()` of the dataframe to show you have succesfull done so."
   ]
  },
  {
   "cell_type": "code",
   "execution_count": 207,
   "metadata": {},
   "outputs": [
    {
     "data": {
      "text/html": [
       "<div>\n",
       "<style scoped>\n",
       "    .dataframe tbody tr th:only-of-type {\n",
       "        vertical-align: middle;\n",
       "    }\n",
       "\n",
       "    .dataframe tbody tr th {\n",
       "        vertical-align: top;\n",
       "    }\n",
       "\n",
       "    .dataframe thead th {\n",
       "        text-align: right;\n",
       "    }\n",
       "</style>\n",
       "<table border=\"1\" class=\"dataframe\">\n",
       "  <thead>\n",
       "    <tr style=\"text-align: right;\">\n",
       "      <th></th>\n",
       "      <th>bkblk</th>\n",
       "      <th>bknwy</th>\n",
       "      <th>bkon8</th>\n",
       "      <th>bkona</th>\n",
       "      <th>bkspr</th>\n",
       "      <th>bkxbq</th>\n",
       "      <th>bkxcr</th>\n",
       "      <th>bkxwp</th>\n",
       "      <th>blxwp</th>\n",
       "      <th>bxqsq</th>\n",
       "      <th>...</th>\n",
       "      <th>spcop</th>\n",
       "      <th>stlmt</th>\n",
       "      <th>thrsk</th>\n",
       "      <th>wkcti</th>\n",
       "      <th>wkna8</th>\n",
       "      <th>wknck</th>\n",
       "      <th>wkovl</th>\n",
       "      <th>wkpos</th>\n",
       "      <th>wtoeg</th>\n",
       "      <th>won</th>\n",
       "    </tr>\n",
       "  </thead>\n",
       "  <tbody>\n",
       "    <tr>\n",
       "      <th>0</th>\n",
       "      <td>1</td>\n",
       "      <td>1</td>\n",
       "      <td>1</td>\n",
       "      <td>1</td>\n",
       "      <td>1</td>\n",
       "      <td>1</td>\n",
       "      <td>1</td>\n",
       "      <td>1</td>\n",
       "      <td>1</td>\n",
       "      <td>1</td>\n",
       "      <td>...</td>\n",
       "      <td>1</td>\n",
       "      <td>1</td>\n",
       "      <td>1</td>\n",
       "      <td>1</td>\n",
       "      <td>1</td>\n",
       "      <td>1</td>\n",
       "      <td>4</td>\n",
       "      <td>4</td>\n",
       "      <td>3</td>\n",
       "      <td>1</td>\n",
       "    </tr>\n",
       "    <tr>\n",
       "      <th>1</th>\n",
       "      <td>1</td>\n",
       "      <td>1</td>\n",
       "      <td>1</td>\n",
       "      <td>1</td>\n",
       "      <td>4</td>\n",
       "      <td>1</td>\n",
       "      <td>1</td>\n",
       "      <td>1</td>\n",
       "      <td>1</td>\n",
       "      <td>1</td>\n",
       "      <td>...</td>\n",
       "      <td>1</td>\n",
       "      <td>1</td>\n",
       "      <td>1</td>\n",
       "      <td>1</td>\n",
       "      <td>1</td>\n",
       "      <td>1</td>\n",
       "      <td>4</td>\n",
       "      <td>4</td>\n",
       "      <td>3</td>\n",
       "      <td>1</td>\n",
       "    </tr>\n",
       "    <tr>\n",
       "      <th>2</th>\n",
       "      <td>1</td>\n",
       "      <td>1</td>\n",
       "      <td>1</td>\n",
       "      <td>1</td>\n",
       "      <td>4</td>\n",
       "      <td>1</td>\n",
       "      <td>4</td>\n",
       "      <td>1</td>\n",
       "      <td>1</td>\n",
       "      <td>1</td>\n",
       "      <td>...</td>\n",
       "      <td>1</td>\n",
       "      <td>1</td>\n",
       "      <td>1</td>\n",
       "      <td>1</td>\n",
       "      <td>1</td>\n",
       "      <td>1</td>\n",
       "      <td>4</td>\n",
       "      <td>4</td>\n",
       "      <td>3</td>\n",
       "      <td>1</td>\n",
       "    </tr>\n",
       "    <tr>\n",
       "      <th>3</th>\n",
       "      <td>1</td>\n",
       "      <td>1</td>\n",
       "      <td>1</td>\n",
       "      <td>1</td>\n",
       "      <td>1</td>\n",
       "      <td>1</td>\n",
       "      <td>1</td>\n",
       "      <td>1</td>\n",
       "      <td>4</td>\n",
       "      <td>1</td>\n",
       "      <td>...</td>\n",
       "      <td>1</td>\n",
       "      <td>1</td>\n",
       "      <td>1</td>\n",
       "      <td>1</td>\n",
       "      <td>1</td>\n",
       "      <td>1</td>\n",
       "      <td>4</td>\n",
       "      <td>4</td>\n",
       "      <td>3</td>\n",
       "      <td>1</td>\n",
       "    </tr>\n",
       "    <tr>\n",
       "      <th>4</th>\n",
       "      <td>1</td>\n",
       "      <td>1</td>\n",
       "      <td>1</td>\n",
       "      <td>1</td>\n",
       "      <td>1</td>\n",
       "      <td>1</td>\n",
       "      <td>1</td>\n",
       "      <td>1</td>\n",
       "      <td>1</td>\n",
       "      <td>1</td>\n",
       "      <td>...</td>\n",
       "      <td>1</td>\n",
       "      <td>1</td>\n",
       "      <td>1</td>\n",
       "      <td>1</td>\n",
       "      <td>1</td>\n",
       "      <td>1</td>\n",
       "      <td>4</td>\n",
       "      <td>4</td>\n",
       "      <td>3</td>\n",
       "      <td>1</td>\n",
       "    </tr>\n",
       "  </tbody>\n",
       "</table>\n",
       "<p>5 rows × 37 columns</p>\n",
       "</div>"
      ],
      "text/plain": [
       "   bkblk  bknwy  bkon8  bkona  bkspr  bkxbq  bkxcr  bkxwp  blxwp  bxqsq  ...  \\\n",
       "0      1      1      1      1      1      1      1      1      1      1  ...   \n",
       "1      1      1      1      1      4      1      1      1      1      1  ...   \n",
       "2      1      1      1      1      4      1      4      1      1      1  ...   \n",
       "3      1      1      1      1      1      1      1      1      4      1  ...   \n",
       "4      1      1      1      1      1      1      1      1      1      1  ...   \n",
       "\n",
       "   spcop  stlmt  thrsk  wkcti  wkna8  wknck  wkovl  wkpos  wtoeg  won  \n",
       "0      1      1      1      1      1      1      4      4      3    1  \n",
       "1      1      1      1      1      1      1      4      4      3    1  \n",
       "2      1      1      1      1      1      1      4      4      3    1  \n",
       "3      1      1      1      1      1      1      4      4      3    1  \n",
       "4      1      1      1      1      1      1      4      4      3    1  \n",
       "\n",
       "[5 rows x 37 columns]"
      ]
     },
     "execution_count": 207,
     "metadata": {},
     "output_type": "execute_result"
    }
   ],
   "source": [
    "## your code here\n",
    "data.replace({\"won\":1,\"nowin\":0,\"f\":1,\"l\":2,\"n\":3,\"t\":4,\"w\":5,\"b\":6,\"g\":7},inplace=True)\n",
    "data.head()"
   ]
  },
  {
   "cell_type": "markdown",
   "metadata": {},
   "source": [
    "### 2.3 Separate features and class labels\n",
    "\n",
    "As we have seen in our analyses using `sklearn` it is advantageous to separate our dataframes into `features` and `labels` for the analysis we are intending to do.\n",
    "\n",
    "<font size=8 color=\"#009600\">&#9998;</font> Do this - Separate the data frame into two: a features dataframe and a labels dataframe."
   ]
  },
  {
   "cell_type": "code",
   "execution_count": 208,
   "metadata": {},
   "outputs": [
    {
     "name": "stdout",
     "output_type": "stream",
     "text": [
      "0 percentage: 0.47778473091364204\n",
      "1 percentage: 0.522215269086358\n"
     ]
    }
   ],
   "source": [
    "## your code here\n",
    "labels = data['won']\n",
    "features=data.drop(columns=['won'])\n",
    "print(\"0 percentage:\",sum(labels==0)/len(labels))\n",
    "print(\"1 percentage:\",sum(labels==1)/len(labels))"
   ]
  },
  {
   "cell_type": "markdown",
   "metadata": {},
   "source": [
    "**Question:** How balanced is your outcome variable? Why does it matter for the outcome to be balanced?"
   ]
  },
  {
   "cell_type": "markdown",
   "metadata": {},
   "source": [
    "<font size=8 color=\"#009600\">&#9998;</font> The number of 0 is close to 0.5, number of 1 is close to 0.5 as well. they are sort of balanced. Unbalanced results can lead to deviating training patterns"
   ]
  },
  {
   "cell_type": "markdown",
   "metadata": {},
   "source": [
    "---\n",
    "## 3. Building an SVC model\n",
    "\n",
    "For this classification problem, we will use an support vector machine. As you learned in the midterm review, we could easily replace this with any `sklearn` classifier we choose. We will use a linear kernel.\n",
    "\n",
    "### 3.1 Splitting the data\n",
    "\n",
    "<font size=8 color=\"#009600\">&#9998;</font> Do this - Split your data into a training and testing set with a train size representing 75% of your data. Print the lengths to show you have the right number of entries."
   ]
  },
  {
   "cell_type": "code",
   "execution_count": 209,
   "metadata": {},
   "outputs": [
    {
     "name": "stdout",
     "output_type": "stream",
     "text": [
      "2397\n",
      "799\n",
      "2397\n",
      "799\n"
     ]
    }
   ],
   "source": [
    "## your code here\n",
    "train_v, test_v, train_l, test_l = train_test_split(features, labels, test_size=0.25)\n",
    "print(len(train_v))\n",
    "print(len(test_v))\n",
    "\n",
    "print(len(train_1))\n",
    "print(len(test_l))"
   ]
  },
  {
   "cell_type": "markdown",
   "metadata": {},
   "source": [
    "### 3.2 Modeling the data and evaluting the fit\n",
    "\n",
    "As you have done this a number of times, we ask you to do most of the analysis in one cell.\n",
    "\n",
    "<font size=8 color=\"#009600\">&#9998;</font> Do this - Build a linear SVC model (`C=100`), fit it to the training set, use the test features to predict the outcomes. Evaluate the fit using the confusion matrix and classification report.\n",
    "\n",
    " **Note:** You should look at the documentation on the confusion matrix because the way `sklearn` outputs false positives and false negatives is different from what most images on the web indicate."
   ]
  },
  {
   "cell_type": "code",
   "execution_count": 210,
   "metadata": {},
   "outputs": [
    {
     "name": "stdout",
     "output_type": "stream",
     "text": [
      "              precision    recall  f1-score   support\n",
      "\n",
      "           0       0.95      0.97      0.96       371\n",
      "           1       0.97      0.96      0.96       428\n",
      "\n",
      "    accuracy                           0.96       799\n",
      "   macro avg       0.96      0.96      0.96       799\n",
      "weighted avg       0.96      0.96      0.96       799\n",
      "\n",
      "[[409  19]\n",
      " [ 11 360]]\n"
     ]
    }
   ],
   "source": [
    "## your code here\n",
    "linear_model = SVC(C=100, kernel = 'linear')\n",
    "results = linear_model.fit(train_v,train_l)\n",
    "y_pred = results.predict(test_v)\n",
    "y_true = test_l\n",
    "\n",
    "print(classification_report(y_true, y_pred))\n",
    "print(confusion_matrix(y_true, y_pred,labels=[1,0]))"
   ]
  },
  {
   "cell_type": "markdown",
   "metadata": {},
   "source": [
    "**Question:** How accurate is your model? What eveidence are you using to determine that? How many false positives and false negatives does it predict?"
   ]
  },
  {
   "cell_type": "markdown",
   "metadata": {},
   "source": [
    "<font size=8 color=\"#009600\">&#9998;</font> accuracy score is 0.96, classification report show f1 score and accuracy. false positives:19, false negatives:11"
   ]
  },
  {
   "cell_type": "markdown",
   "metadata": {},
   "source": [
    "---\n",
    "## 4. Finding and using the best hyperparameters\n",
    "\n",
    "We have fit one model and determined it's performance, but is it the best model? We can use `GridSearchCV` to find the best model (given our choices of parameters). Once we do that, we will use that best model going forward. **Note:** you would typically rerun this grid search in a production environment to continue to verify the best model, but we are not for the sake of speed.\n",
    "\n",
    "### 4.1 Grid search\n",
    "\n",
    "<font size=8 color=\"#009600\">&#9998;</font> Do this - Using the following parameters (`C` = 1, 10, 100, 1000 and `gamma` = 1e-4, 1e-3, 0.01, 0.1) for both a `linear` and `rbf` kernel use `GridSearchCV` with the `SVC()` model to find the best fit parameters. Print the \"best estimators\"."
   ]
  },
  {
   "cell_type": "code",
   "execution_count": 233,
   "metadata": {},
   "outputs": [
    {
     "name": "stdout",
     "output_type": "stream",
     "text": [
      "Best estimators:\n",
      "SVC(C=100, class_weight='balanced', gamma=0.01)\n"
     ]
    }
   ],
   "source": [
    "## your code here\n",
    "vectors = train_v\n",
    "labels = train_l\n",
    "\n",
    "parameters = {'kernel':('linear', 'rbf'), 'C':[1, 10,100,1000], \"gamma\":[1e-4,1e-3,0.01,0.1]}\n",
    "clf = GridSearchCV(SVC(class_weight='balanced'), parameters)\n",
    "clf.fit(vectors, labels)\n",
    "\n",
    "print(\"Best estimators:\")\n",
    "print(clf.best_estimator_)"
   ]
  },
  {
   "cell_type": "markdown",
   "metadata": {},
   "source": [
    "### 4.2 Evaluating the best fit model\n",
    "\n",
    "Now that we have found the \"best estimators\", let's determine how good the fit is.\n",
    "\n",
    "<font size=8 color=\"#009600\">&#9998;</font> Do this - Use the test features to predict the outcomes for the best model. Evaluate the fit using the confusion matrix and classification report. \n",
    "\n",
    "**Note:** You should look at the documentation on the confusion matrix because the way `sklearn` outputs false positives and false negatives is different from what most images on the web indicate."
   ]
  },
  {
   "cell_type": "code",
   "execution_count": 221,
   "metadata": {},
   "outputs": [
    {
     "name": "stdout",
     "output_type": "stream",
     "text": [
      "              precision    recall  f1-score   support\n",
      "\n",
      "           0       0.99      1.00      0.99       371\n",
      "           1       1.00      0.99      1.00       428\n",
      "\n",
      "    accuracy                           0.99       799\n",
      "   macro avg       0.99      1.00      0.99       799\n",
      "weighted avg       1.00      0.99      0.99       799\n",
      "\n",
      "[[425   3]\n",
      " [  1 370]]\n"
     ]
    }
   ],
   "source": [
    "## your code here\n",
    "rbf_model = SVC(C=100, kernel = 'rbf', gamma = 0.01)\n",
    "results = rbf_model.fit(train_v,train_l)\n",
    "\n",
    "y_pred = results.predict(test_v)\n",
    "y_true = test_l\n",
    "\n",
    "print(classification_report(y_true, y_pred))\n",
    "print(confusion_matrix(y_true, y_pred,labels=[1,0]))"
   ]
  },
  {
   "cell_type": "markdown",
   "metadata": {},
   "source": [
    "**Question:** How accurate is this best model? What evidence are you using to determine that? How many false positives and false negatives does it predict?"
   ]
  },
  {
   "cell_type": "markdown",
   "metadata": {},
   "source": [
    "<font size=8 color=\"#009600\">&#9998;</font> accurate is 0.99, f1-score is 0.99 and recall is 1. False positives：3， false negatives：1"
   ]
  },
  {
   "cell_type": "markdown",
   "metadata": {},
   "source": [
    "---\n",
    "## 5. Using Principal Components\n",
    "\n",
    "The full model uses 36 features to predict the results. And you likely found that the model is incredibly accurate. But in some cases, we might have even more features (which means much more computational time), and we might not need nearly the level of accuracy we can achieve with the full data set. So, we will see how close we can get with fewer features. But instead of simply removing features, we will use a PCA to determine the featurse that contribute the most the model (through their accounted variance) and use those to build our SVC model.\n",
    "\n",
    "### 5.1 Building a PCA\n",
    "\n",
    "We will start with a small number of components (say, 4) to see how well we can predict the outcomes of the games.\n",
    "\n",
    "<font size=8 color=\"#009600\">&#9998;</font> Do this - Using `PCA()`, fit a pca to your training features with 4 components. Transform both the test and training features using this pca. Plot the `explained_variance_` versus component number."
   ]
  },
  {
   "cell_type": "code",
   "execution_count": 213,
   "metadata": {},
   "outputs": [
    {
     "data": {
      "text/plain": [
       "Text(0, 0.5, 'explained variance')"
      ]
     },
     "execution_count": 213,
     "metadata": {},
     "output_type": "execute_result"
    },
    {
     "data": {
      "image/png": "[encoded data removed]",
      "text/plain": [
       "<Figure size 432x288 with 1 Axes>"
      ]
     },
     "metadata": {
      "needs_background": "light"
     },
     "output_type": "display_data"
    }
   ],
   "source": [
    "## your code here\n",
    "n_components = 4\n",
    "pca = PCA(n_components=n_components, whiten=True)\n",
    "_ = pca.fit(train_v) #fit train vectors\n",
    "\n",
    "pca_train_vectors = pca.transform(train_v)\n",
    "pca_test_vectors = pca.transform(test_features)\n",
    "\n",
    "plt.plot(range(1,n_components+1),pca.explained_variance_, marker=\"o\") #range from 1 to n+1, pca explained variance.\n",
    "plt.xlabel('component number')\n",
    "plt.ylabel('explained variance')"
   ]
  },
  {
   "cell_type": "code",
   "execution_count": 222,
   "metadata": {},
   "outputs": [
    {
     "name": "stdout",
     "output_type": "stream",
     "text": [
      "These 4 eigenvectors account for a total of 44 percent of the total variance in the original dataset\n"
     ]
    }
   ],
   "source": [
    "total_variance = np.sum(pca.explained_variance_ratio_)*100\n",
    "print(\"These %d eigenvectors account for a total of %d percent of the total variance in the original dataset\"\n",
    "      % (n_components, total_variance))"
   ]
  },
  {
   "cell_type": "markdown",
   "metadata": {},
   "source": [
    "**Question:** What is the total explained variance captured by this PCA (we will use this later, just quote the number)? How well do you think a model with this many featuers will perform? Why?"
   ]
  },
  {
   "cell_type": "markdown",
   "metadata": {},
   "source": [
    "<font size=8 color=\"#009600\">&#9998;</font> Only 44%, because the number of features is so small, a model will perform worse than a full model."
   ]
  },
  {
   "cell_type": "markdown",
   "metadata": {},
   "source": [
    "### 5.2 Fit and Evaluate an SVC model\n",
    "\n",
    "Using the pca transformed features, we will train and test an SVC model using the \"best estimators\".\n",
    "\n",
    "<font size=8 color=\"#009600\">&#9998;</font> Do this - Using the pca transformed training data, build and train an SVC model. Predict the classes using the pca transformed test data. Evaluate the model using the classfication report, and the confusion matrix."
   ]
  },
  {
   "cell_type": "code",
   "execution_count": 223,
   "metadata": {},
   "outputs": [
    {
     "name": "stdout",
     "output_type": "stream",
     "text": [
      "              precision    recall  f1-score   support\n",
      "\n",
      "           0       0.47      0.50      0.48       371\n",
      "           1       0.54      0.52      0.53       428\n",
      "\n",
      "    accuracy                           0.51       799\n",
      "   macro avg       0.51      0.51      0.51       799\n",
      "weighted avg       0.51      0.51      0.51       799\n",
      "\n",
      "[[221 207]\n",
      " [186 185]]\n"
     ]
    }
   ],
   "source": [
    "## your code here\n",
    "tmp_vectors = pca_train_vectors\n",
    "tmp_labels = train_l\n",
    "predict_vectors = pca_test_vectors\n",
    "true_labels = test_l\n",
    "\n",
    "model = SVC(C=100, kernel = 'rbf', gamma = 0.01)\n",
    "results = model.fit(tmp_vectors,tmp_labels)\n",
    "\n",
    "y_pred = results.predict(predict_vectors)\n",
    "y_true = true_labels\n",
    "\n",
    "print(classification_report(y_true, y_pred))\n",
    "print(confusion_matrix(y_true, y_pred,labels=[1,0]))"
   ]
  },
  {
   "cell_type": "markdown",
   "metadata": {},
   "source": [
    "**Question:** How accurate is this model? What evidence are you using to determine that? How many false positives and false negatives does it predict? How does it compare to the full model?"
   ]
  },
  {
   "cell_type": "markdown",
   "metadata": {},
   "source": [
    "<font size=8 color=\"#009600\">&#9998;</font> Accuracy is 0.51, false positives:207, false negatives:186. It perform worse than full model."
   ]
  },
  {
   "cell_type": "markdown",
   "metadata": {},
   "source": [
    "### 5.3 Repeat your analysis with more components\n",
    "\n",
    "You probably found that the model with 4 features didn't work so well. What if we increase the number of components (say to 30, which is still 6 fewer than the full data set). What happens now?\n",
    "\n",
    "<font size=8 color=\"#009600\">&#9998;</font> Do this - Repeat your analysis from 5.1 and 5.2 using 30 components instead."
   ]
  },
  {
   "cell_type": "code",
   "execution_count": 225,
   "metadata": {},
   "outputs": [
    {
     "name": "stdout",
     "output_type": "stream",
     "text": [
      "These 30 eigenvectors account for a total of 99 percent of the total variance in the original dataset\n",
      "              precision    recall  f1-score   support\n",
      "\n",
      "           0       0.99      0.99      0.99       371\n",
      "           1       0.99      1.00      0.99       428\n",
      "\n",
      "    accuracy                           0.99       799\n",
      "   macro avg       0.99      0.99      0.99       799\n",
      "weighted avg       0.99      0.99      0.99       799\n",
      "\n",
      "[[426   2]\n",
      " [  3 368]]\n"
     ]
    },
    {
     "data": {
      "image/png": "[encoded data removed]",
      "text/plain": [
       "<Figure size 432x288 with 1 Axes>"
      ]
     },
     "metadata": {
      "needs_background": "light"
     },
     "output_type": "display_data"
    }
   ],
   "source": [
    "## your code here\n",
    "n_components = 30\n",
    "\n",
    "#Set up the pca object with the number of compoents we want to find\n",
    "pca = PCA(n_components=n_components, whiten=True)\n",
    "_ = pca.fit(train_v)\n",
    "\n",
    "pca_train_vectors = pca.transform(train_v)\n",
    "pca_test_vectors = pca.transform(test_v)\n",
    "\n",
    "plt.plot(range(1,n_components+1),pca.explained_variance_, marker=\"o\")\n",
    "plt.xlabel('component number')\n",
    "plt.ylabel('explained variance')\n",
    "\n",
    "total_variance = np.sum(pca.explained_variance_ratio_)*100\n",
    "print(\"These %d eigenvectors account for a total of %d percent of the total variance in the original dataset\"\n",
    "      % (n_components, total_variance))\n",
    "\n",
    "tmp_vectors = pca_train_vectors\n",
    "tmp_labels = train_l\n",
    "\n",
    "predict_vectors = pca_test_vectors\n",
    "true_labels = test_l\n",
    "\n",
    "model = SVC(C=100, kernel = 'rbf',gamma=0.01)\n",
    "results = model.fit(tmp_vectors,tmp_labels)\n",
    "\n",
    "y_pred = results.predict(predict_vectors)\n",
    "y_true = true_labels\n",
    "\n",
    "print(classification_report(y_true, y_pred))\n",
    "print(confusion_matrix(y_true, y_pred,labels=[1,0]))"
   ]
  },
  {
   "cell_type": "markdown",
   "metadata": {},
   "source": [
    "**Question:** What is the total explained variance captured by this PCA? How accurate is this model? What evidence are you using to determine that? How many false positives and false negatives does it predict? How does it compare to the 4 component model? To the full model?"
   ]
  },
  {
   "cell_type": "markdown",
   "metadata": {},
   "source": [
    "<font size=8 color=\"#009600\">&#9998;</font> Captures 99% of the total variance. The accuracy of this model is as high as 0.99. There were 2 false positives and 3 false negatives. It performs much better than the 4-component model and is comparable to the full model."
   ]
  },
  {
   "cell_type": "markdown",
   "metadata": {},
   "source": [
    "---\n",
    "## 6. How well does a PCA work?\n",
    "\n",
    "Clearly, the number of components we use in our PCA matters. Let's investigate how they matter by systematically building a model for any number of selected components.\n",
    "\n",
    "### 6.1 Accuracy vs. Components\n",
    "\n",
    "We will do this by writing a function that creates the PCA, the SVC model, fits the training data, predict the labels using test data, and returns the accuracy scores and the explained variance. So your function will take as input:\n",
    "* the number of components\n",
    "* the training features\n",
    "* the test features\n",
    "* the training labels\n",
    "* the test labels\n",
    "and it will return the accuracy scores for an SVC model fit to pca transformed features and the total explained variance.\n",
    "\n",
    "<font size=8 color=\"#009600\">&#9998;</font> Do this - Create this function, which you will use in the next section."
   ]
  },
  {
   "cell_type": "code",
   "execution_count": 227,
   "metadata": {},
   "outputs": [],
   "source": [
    "## your code here\n",
    "def acc_function(n_components,train_v,test_v,train_l,test_l):\n",
    "    n_components = n_components\n",
    "    pca = PCA(n_components=n_components, whiten=True)\n",
    "    _ = pca.fit(train_v)\n",
    "    \n",
    "    pca_train_vectors = pca.transform(train_v)\n",
    "    pca_test_vectors = pca.transform(test_v)\n",
    "    total_variance = np.sum(pca.explained_variance_ratio_)*100\n",
    "    \n",
    "    tmp_vectors = pca_train_vectors\n",
    "    tmp_labels = train_l\n",
    "    predict_vectors = pca_test_vectors\n",
    "    true_labels = test_l\n",
    "    \n",
    "    model = SVC(C=100, kernel = 'rbf', gamma=0.01)\n",
    "    results = model.fit(tmp_vectors,tmp_labels)\n",
    "    y_pred = results.predict(predict_vectors)\n",
    "    y_true = true_labels\n",
    "    \n",
    "    a_score = accuracy_score(y_true,y_pred)\n",
    "    return a_score,total_variance"
   ]
  },
  {
   "cell_type": "markdown",
   "metadata": {},
   "source": [
    "### 6.2 Compute accuracies\n",
    "\n",
    "Now that you have created a function that returns the accuracy for a given number of components, we will use that to plot the how the accuracy of your SVC model changes when we increase the number of components used in the PCA.\n",
    "\n",
    "<font size=8 color=\"#009600\">&#9998;</font> Do this - For 1 to 36 components, use your function above to compute and store (as a list) the accuracy of your models."
   ]
  },
  {
   "cell_type": "code",
   "execution_count": 228,
   "metadata": {},
   "outputs": [
    {
     "name": "stdout",
     "output_type": "stream",
     "text": [
      "[0.5556946182728411, 0.5819774718397998, 0.6207759699624531, 0.6145181476846058, 0.7434292866082604, 0.8122653316645807, 0.851063829787234, 0.8836045056320401, 0.9123904881101377, 0.9386733416770964, 0.9399249061326659, 0.9549436795994993, 0.9549436795994993, 0.9662077596996246, 0.9749687108886108, 0.9737171464330413, 0.9737171464330413, 0.981226533166458, 0.983729662077597, 0.981226533166458, 0.986232790988736, 0.9887359198998749, 0.9887359198998749, 0.9887359198998749, 0.9949937421777222, 0.9937421777221527, 0.9937421777221527, 0.9937421777221527, 0.9937421777221527, 0.9937421777221527, 0.9949937421777222, 0.9962453066332916, 0.9937421777221527, 0.9949937421777222, 0.9962453066332916, 0.9962453066332916]\n",
      "[15.828580071247645, 27.072508834678814, 37.2502778012625, 44.23392362087363, 50.226445436266175, 55.54837067145706, 60.82311195890458, 65.28440580420725, 69.42101692324457, 72.92808192437977, 75.85184361245243, 78.3298146175926, 80.69322643105649, 82.8170749281298, 84.69808812874774, 86.45829336239355, 88.1874115707623, 89.72571407489487, 91.06066456576227, 92.31211322211237, 93.51965573293037, 94.63633087182652, 95.66211284503791, 96.5497967296911, 97.26273814407183, 97.84741772233741, 98.35199414531787, 98.75831476794144, 99.10076381814198, 99.3473468032314, 99.54433996111104, 99.73275165309899, 99.85469181919886, 99.92613298533071, 99.99161568891451, 100.0]\n"
     ]
    }
   ],
   "source": [
    "## your code here\n",
    "accuracy_list = []\n",
    "total_explained = []\n",
    "\n",
    "for i in range(1,37): #for 1 to 36 components\n",
    "    accuracy_list.append(acc_function(i,train_v,test_v,train_l,test_l)[0])\n",
    "    total_explained.append(acc_function(i,train_v,test_v,train_l,test_l)[1])\n",
    "    \n",
    "print(accuracy_list)\n",
    "print(total_explained)"
   ]
  },
  {
   "cell_type": "markdown",
   "metadata": {},
   "source": [
    "### 6.3 Plot accuracy vs number of components\n",
    "\n",
    "Now that we have those numbers, it makes sense to look at the accuracy vs components.\n",
    "\n",
    "<font size=8 color=\"#009600\">&#9998;</font> Do this - Plot the accuracy vs components."
   ]
  },
  {
   "cell_type": "code",
   "execution_count": 229,
   "metadata": {},
   "outputs": [
    {
     "data": {
      "text/plain": [
       "Text(0, 0.5, 'Accuracy Score')"
      ]
     },
     "execution_count": 229,
     "metadata": {},
     "output_type": "execute_result"
    },
    {
     "data": {
      "image/png": "[encoded data removed]",
      "text/plain": [
       "<Figure size 432x288 with 1 Axes>"
      ]
     },
     "metadata": {
      "needs_background": "light"
     },
     "output_type": "display_data"
    }
   ],
   "source": [
    "## your code here\n",
    "plt.plot(range(1,37),accuracy_list,marker='o')\n",
    "plt.xlabel('number of components')\n",
    "plt.ylabel('Accuracy Score')"
   ]
  },
  {
   "cell_type": "markdown",
   "metadata": {},
   "source": [
    "**Question:** Where does it seem like we have diminishing returns, that is, no major increase in accuracy as we add additional components to the PCA?"
   ]
  },
  {
   "cell_type": "markdown",
   "metadata": {},
   "source": [
    "<font size=8 color=\"#009600\">&#9998;</font> from 13 get diminishing returns"
   ]
  },
  {
   "cell_type": "markdown",
   "metadata": {},
   "source": [
    "### 6.4 Plot total explained variance vs number of components\n",
    "\n",
    "<font size=8 color=\"#009600\">&#9998;</font> Do this - Plot the total explained variance vs components. "
   ]
  },
  {
   "cell_type": "code",
   "execution_count": 230,
   "metadata": {},
   "outputs": [
    {
     "data": {
      "text/plain": [
       "Text(0, 0.5, 'Total Explained Variance')"
      ]
     },
     "execution_count": 230,
     "metadata": {},
     "output_type": "execute_result"
    },
    {
     "data": {
      "image/png": "[encoded data removed]",
      "text/plain": [
       "<Figure size 432x288 with 1 Axes>"
      ]
     },
     "metadata": {
      "needs_background": "light"
     },
     "output_type": "display_data"
    }
   ],
   "source": [
    "## your code here\n",
    "plt.plot(range(1,37),total_explained,marker='o')\n",
    "plt.xlabel('number of components')\n",
    "plt.ylabel('Total Explained Variance')"
   ]
  },
  {
   "cell_type": "markdown",
   "metadata": {},
   "source": [
    "**Question:** Where does it seem like we have diminishing returns, that is, no major increase in explained variance as we add additional components to the PCA? How does that number of components compare to the diminishing returns for accuracy?"
   ]
  },
  {
   "cell_type": "markdown",
   "metadata": {},
   "source": [
    "<font size=8 color=\"#009600\">&#9998;</font> Starting at around 27, have diminishing returns. greater compare to the dimishing returns for accuracy."
   ]
  },
  {
   "cell_type": "markdown",
   "metadata": {},
   "source": [
    "---\n",
    "## 7. Assignment wrap-up¶\n",
    "Please fill out the form that appears when you run the code below. **You must completely fill this out in order to receive credit for the assignment!**"
   ]
  },
  {
   "cell_type": "code",
   "execution_count": 231,
   "metadata": {},
   "outputs": [
    {
     "data": {
      "text/html": [
       "\n",
       "<iframe \n",
       "\tsrc=\"https://docs.google.com/forms/d/e/1FAIpQLSc0IBD2mdn4TcRyi-KNXVtS3aEg6U4mOFq2MOciLQyEP4bg1w/viewform?usp=sf_link\" \n",
       "\twidth=\"800px\" \n",
       "\theight=\"600px\" \n",
       "\tframeborder=\"0\" \n",
       "\tmarginheight=\"0\" \n",
       "\tmarginwidth=\"0\">\n",
       "\tLoading...\n",
       "</iframe>\n"
      ],
      "text/plain": [
       "<IPython.core.display.HTML object>"
      ]
     },
     "execution_count": 231,
     "metadata": {},
     "output_type": "execute_result"
    }
   ],
   "source": [
    "from IPython.display import HTML\n",
    "HTML(\n",
    "\"\"\"\n",
    "<iframe \n",
    "\tsrc=\"https://docs.google.com/forms/d/e/1FAIpQLSc0IBD2mdn4TcRyi-KNXVtS3aEg6U4mOFq2MOciLQyEP4bg1w/viewform?usp=sf_link\" \n",
    "\twidth=\"800px\" \n",
    "\theight=\"600px\" \n",
    "\tframeborder=\"0\" \n",
    "\tmarginheight=\"0\" \n",
    "\tmarginwidth=\"0\">\n",
    "\tLoading...\n",
    "</iframe>\n",
    "\"\"\"\n",
    ")"
   ]
  },
  {
   "cell_type": "markdown",
   "metadata": {},
   "source": [
    "### Congratulations, you're done!\n",
    "Submit this assignment by uploading it to the course Desire2Learn web page. Go to the \"Homework Assignments\" folder, find the dropbox link for Homework 4, and upload your notebook."
   ]
  }
 ],
 "metadata": {
  "kernelspec": {
   "display_name": "Python 3",
   "language": "python",
   "name": "python3"
  },
  "language_info": {
   "codemirror_mode": {
    "name": "ipython",
    "version": 3
   },
   "file_extension": ".py",
   "mimetype": "text/x-python",
   "name": "python",
   "nbconvert_exporter": "python",
   "pygments_lexer": "ipython3",
   "version": "3.8.3"
  }
 },
 "nbformat": 4,
 "nbformat_minor": 4
}
